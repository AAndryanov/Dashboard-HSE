{
 "cells": [
  {
   "cell_type": "code",
   "execution_count": 16,
   "id": "fd5b910d-bf68-479e-8efd-e2f7b07addaf",
   "metadata": {},
   "outputs": [],
   "source": [
    "import psycopg2\n",
    "import pandas as pd\n",
    "import json\n",
    "import pandas as pd"
   ]
  },
  {
   "cell_type": "code",
   "execution_count": 11,
   "id": "99e17199-a13b-43b8-af0b-4516e1a82ba4",
   "metadata": {},
   "outputs": [],
   "source": [
    "conn = psycopg2.connect(\n",
    "    dbname=\"bhchggi2oszg8ltxos7t\",\n",
    "    user=\"uo6eisf85mmsla5uznkh\",\n",
    "    password=\"lk51F5Rf88DRFNcvMQ9up7U34F6kex\",\n",
    "    host=\"bhchggi2oszg8ltxos7t-postgresql.services.clever-cloud.com\",\n",
    "    port=\"50013\"\n",
    ")"
   ]
  },
  {
   "cell_type": "code",
   "execution_count": 12,
   "id": "e57b8f29-062c-4f63-8d87-da52d6b4fba2",
   "metadata": {},
   "outputs": [],
   "source": [
    "cur = conn.cursor()"
   ]
  },
  {
   "cell_type": "code",
   "execution_count": 4,
   "id": "473c6f8f-f889-4142-adb4-ccb6d49870f2",
   "metadata": {},
   "outputs": [],
   "source": [
    "create_table_query = \"\"\"\n",
    "CREATE TABLE knowledge_base (\n",
    "    id SERIAL PRIMARY KEY,\n",
    "    selected_role VARCHAR(50),\n",
    "    campus VARCHAR(100),\n",
    "    education_level VARCHAR(100),\n",
    "    question_category VARCHAR(255),\n",
    "    user_question TEXT,\n",
    "    user_filters TEXT[], -- Массив строк для фильтров пользователя\n",
    "    question_filters TEXT[], -- Массив строк для фильтров вопроса\n",
    "    saiga_answer TEXT,\n",
    "    giga_answer TEXT,\n",
    "    winner VARCHAR(50),\n",
    "    comment TEXT,\n",
    "    contexts JSONB, -- JSONB для хранения сложной структуры контекстов\n",
    "    refined_question TEXT,\n",
    "    refined_answer TEXT,\n",
    "    refined_contexts JSONB, -- JSONB для хранения сложной структуры уточненных контекстов\n",
    "    response_time NUMERIC(10,6),\n",
    "    refined_response_time NUMERIC(10,6),\n",
    "    comment_status VARCHAR(50)\n",
    ");\n",
    "\"\"\""
   ]
  },
  {
   "cell_type": "code",
   "execution_count": 5,
   "id": "29419e2e-4cc4-4ae0-b878-735b624c4d26",
   "metadata": {},
   "outputs": [],
   "source": [
    "cur.execute(create_table_query)\n",
    "conn.commit()"
   ]
  },
  {
   "cell_type": "code",
   "execution_count": 13,
   "id": "8774d3b7-1df2-4218-8f9d-de2e15d5f142",
   "metadata": {},
   "outputs": [],
   "source": [
    "data = {\n",
    "    \"selected_role\": \"Студент\",\n",
    "    \"campus\": \"Москва\",\n",
    "    \"education_level\": \"Бакалавриат\",\n",
    "    \"question_category\": \"Социальные вопросы\",\n",
    "    \"user_question\": \"Нужно ли подавать какие-то дополнительные документы для продления социальной стипендии?\",\n",
    "    \"response_time\": 3.763305\n",
    "}\n",
    "\n",
    "# SQL запрос для вставки данных\n",
    "insert_query = \"\"\"\n",
    "INSERT INTO knowledge_base (\n",
    "    selected_role, campus, education_level, question_category, user_question, response_time\n",
    ") VALUES (%s, %s, %s, %s, %s, %s);\n",
    "\"\"\"\n",
    "\n",
    "# Выполнение запроса\n",
    "cur.execute(insert_query, (\n",
    "    data[\"selected_role\"],\n",
    "    data[\"campus\"],\n",
    "    data[\"education_level\"],\n",
    "    data[\"question_category\"],\n",
    "    data[\"user_question\"],\n",
    "    data[\"response_time\"]\n",
    "))\n",
    "\n",
    "# Фиксация изменений\n",
    "conn.commit()"
   ]
  },
  {
   "cell_type": "code",
   "execution_count": 18,
   "id": "a652bc6f-4268-42ec-be89-af1d46f87b34",
   "metadata": {},
   "outputs": [
    {
     "name": "stderr",
     "output_type": "stream",
     "text": [
      "C:\\Users\\gnrly\\AppData\\Local\\Temp\\ipykernel_16268\\3616390400.py:6: UserWarning: pandas only supports SQLAlchemy connectable (engine/connection) or database string URI or sqlite3 DBAPI2 connection. Other DBAPI2 objects are not tested. Please consider using SQLAlchemy.\n",
      "  df = pd.read_sql_query(query, conn)\n"
     ]
    }
   ],
   "source": [
    "query = \"\"\"\n",
    "SELECT * FROM knowledge_base;\n",
    "\"\"\"\n",
    "\n",
    "# Загрузка данных в DataFrame\n",
    "df = pd.read_sql_query(query, conn)"
   ]
  },
  {
   "cell_type": "code",
   "execution_count": 19,
   "id": "b5400759-6146-4b4d-838e-da442e5e5939",
   "metadata": {},
   "outputs": [
    {
     "data": {
      "text/html": [
       "<div>\n",
       "<style scoped>\n",
       "    .dataframe tbody tr th:only-of-type {\n",
       "        vertical-align: middle;\n",
       "    }\n",
       "\n",
       "    .dataframe tbody tr th {\n",
       "        vertical-align: top;\n",
       "    }\n",
       "\n",
       "    .dataframe thead th {\n",
       "        text-align: right;\n",
       "    }\n",
       "</style>\n",
       "<table border=\"1\" class=\"dataframe\">\n",
       "  <thead>\n",
       "    <tr style=\"text-align: right;\">\n",
       "      <th></th>\n",
       "      <th>id</th>\n",
       "      <th>selected_role</th>\n",
       "      <th>campus</th>\n",
       "      <th>education_level</th>\n",
       "      <th>question_category</th>\n",
       "      <th>user_question</th>\n",
       "      <th>user_filters</th>\n",
       "      <th>question_filters</th>\n",
       "      <th>saiga_answer</th>\n",
       "      <th>giga_answer</th>\n",
       "      <th>winner</th>\n",
       "      <th>comment</th>\n",
       "      <th>contexts</th>\n",
       "      <th>refined_question</th>\n",
       "      <th>refined_answer</th>\n",
       "      <th>refined_contexts</th>\n",
       "      <th>response_time</th>\n",
       "      <th>refined_response_time</th>\n",
       "      <th>comment_status</th>\n",
       "    </tr>\n",
       "  </thead>\n",
       "  <tbody>\n",
       "    <tr>\n",
       "      <th>0</th>\n",
       "      <td>1</td>\n",
       "      <td>Студент</td>\n",
       "      <td>Москва</td>\n",
       "      <td>Бакалавриат</td>\n",
       "      <td>Социальные вопросы</td>\n",
       "      <td>Нужно ли подавать какие-то дополнительные доку...</td>\n",
       "      <td>None</td>\n",
       "      <td>None</td>\n",
       "      <td>None</td>\n",
       "      <td>None</td>\n",
       "      <td>None</td>\n",
       "      <td>None</td>\n",
       "      <td>None</td>\n",
       "      <td>None</td>\n",
       "      <td>None</td>\n",
       "      <td>None</td>\n",
       "      <td>3.763305</td>\n",
       "      <td>None</td>\n",
       "      <td>None</td>\n",
       "    </tr>\n",
       "  </tbody>\n",
       "</table>\n",
       "</div>"
      ],
      "text/plain": [
       "   id selected_role  campus education_level   question_category  \\\n",
       "0   1       Студент  Москва     Бакалавриат  Социальные вопросы   \n",
       "\n",
       "                                       user_question user_filters  \\\n",
       "0  Нужно ли подавать какие-то дополнительные доку...         None   \n",
       "\n",
       "  question_filters saiga_answer giga_answer winner comment contexts  \\\n",
       "0             None         None        None   None    None     None   \n",
       "\n",
       "  refined_question refined_answer refined_contexts  response_time  \\\n",
       "0             None           None             None       3.763305   \n",
       "\n",
       "  refined_response_time comment_status  \n",
       "0                  None           None  "
      ]
     },
     "execution_count": 19,
     "metadata": {},
     "output_type": "execute_result"
    }
   ],
   "source": [
    "df"
   ]
  },
  {
   "cell_type": "code",
   "execution_count": null,
   "id": "f2cc2a91-37a9-4fc6-9c9c-942c95cc243d",
   "metadata": {},
   "outputs": [],
   "source": []
  }
 ],
 "metadata": {
  "kernelspec": {
   "display_name": "Python 3 (ipykernel)",
   "language": "python",
   "name": "python3"
  },
  "language_info": {
   "codemirror_mode": {
    "name": "ipython",
    "version": 3
   },
   "file_extension": ".py",
   "mimetype": "text/x-python",
   "name": "python",
   "nbconvert_exporter": "python",
   "pygments_lexer": "ipython3",
   "version": "3.11.7"
  }
 },
 "nbformat": 4,
 "nbformat_minor": 5
}
